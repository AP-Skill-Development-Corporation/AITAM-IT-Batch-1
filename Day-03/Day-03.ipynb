{
 "cells": [
  {
   "cell_type": "code",
   "execution_count": 1,
   "id": "f51ff8cb",
   "metadata": {},
   "outputs": [],
   "source": [
    "from Demo import sample"
   ]
  },
  {
   "cell_type": "code",
   "execution_count": 2,
   "id": "465e4f1d",
   "metadata": {},
   "outputs": [
    {
     "name": "stdout",
     "output_type": "stream",
     "text": [
      "['__builtins__', '__cached__', '__doc__', '__file__', '__loader__', '__name__', '__package__', '__spec__', 'a']\n"
     ]
    }
   ],
   "source": [
    "print(dir(sample))"
   ]
  },
  {
   "cell_type": "code",
   "execution_count": 3,
   "id": "3e656bc9",
   "metadata": {},
   "outputs": [
    {
     "data": {
      "text/plain": [
       "20"
      ]
     },
     "execution_count": 3,
     "metadata": {},
     "output_type": "execute_result"
    }
   ],
   "source": [
    "sample.a"
   ]
  },
  {
   "cell_type": "code",
   "execution_count": 4,
   "id": "1efa25f6",
   "metadata": {},
   "outputs": [],
   "source": [
    "from Demo.sample import a"
   ]
  },
  {
   "cell_type": "code",
   "execution_count": 5,
   "id": "13090b66",
   "metadata": {},
   "outputs": [
    {
     "data": {
      "text/plain": [
       "20"
      ]
     },
     "execution_count": 5,
     "metadata": {},
     "output_type": "execute_result"
    }
   ],
   "source": [
    "a"
   ]
  },
  {
   "cell_type": "code",
   "execution_count": 1,
   "id": "a0d5f1f0",
   "metadata": {},
   "outputs": [],
   "source": [
    "from Demo import sample"
   ]
  },
  {
   "cell_type": "code",
   "execution_count": 5,
   "id": "82eeb5ef",
   "metadata": {},
   "outputs": [
    {
     "name": "stdout",
     "output_type": "stream",
     "text": [
      "['__builtins__', '__cached__', '__doc__', '__file__', '__loader__', '__name__', '__package__', '__spec__', 'a', 'add']\n"
     ]
    }
   ],
   "source": [
    "print(dir(sample))"
   ]
  },
  {
   "cell_type": "code",
   "execution_count": 6,
   "id": "e433d45b",
   "metadata": {},
   "outputs": [
    {
     "data": {
      "text/plain": [
       "7"
      ]
     },
     "execution_count": 6,
     "metadata": {},
     "output_type": "execute_result"
    }
   ],
   "source": [
    "sample.add(2,5)"
   ]
  },
  {
   "cell_type": "code",
   "execution_count": 7,
   "id": "abe73c7c",
   "metadata": {},
   "outputs": [],
   "source": [
    "from Demo.sample import add"
   ]
  },
  {
   "cell_type": "code",
   "execution_count": 9,
   "id": "a03c78ff",
   "metadata": {},
   "outputs": [
    {
     "name": "stdout",
     "output_type": "stream",
     "text": [
      "23\n",
      "24\n"
     ]
    },
    {
     "data": {
      "text/plain": [
       "47"
      ]
     },
     "execution_count": 9,
     "metadata": {},
     "output_type": "execute_result"
    }
   ],
   "source": [
    "add(int(input()),int(input()))"
   ]
  },
  {
   "cell_type": "code",
   "execution_count": null,
   "id": "6cf32bd1",
   "metadata": {},
   "outputs": [],
   "source": []
  }
 ],
 "metadata": {
  "kernelspec": {
   "display_name": "Python 3",
   "language": "python",
   "name": "python3"
  },
  "language_info": {
   "codemirror_mode": {
    "name": "ipython",
    "version": 3
   },
   "file_extension": ".py",
   "mimetype": "text/x-python",
   "name": "python",
   "nbconvert_exporter": "python",
   "pygments_lexer": "ipython3",
   "version": "3.7.5"
  }
 },
 "nbformat": 4,
 "nbformat_minor": 5
}
