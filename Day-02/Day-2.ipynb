{
 "cells": [
  {
   "cell_type": "code",
   "execution_count": 1,
   "id": "6cd9a802",
   "metadata": {},
   "outputs": [
    {
     "name": "stdout",
     "output_type": "stream",
     "text": [
      "enter a value: 12\n",
      "enter b value: 25\n",
      "Addition of  12 and  25 is:  37\n"
     ]
    }
   ],
   "source": [
    "# with returntype and with arguments\n",
    "# function syntax:\n",
    "# def function_name(arguments):\n",
    "#     //statements\n",
    "#     return return_value\n",
    "\n",
    "# reading: main\n",
    "# printing: main\n",
    "# logic: function\n",
    "def add(c,d):\n",
    "    return c+d\n",
    "\n",
    "a=int(input(\"enter a value: \"))\n",
    "b=int(input(\"enter b value: \"))\n",
    "print(\"Addition of \",a,\"and \",b,\"is: \",add(a,b))"
   ]
  },
  {
   "cell_type": "code",
   "execution_count": 2,
   "id": "2602fc18",
   "metadata": {},
   "outputs": [
    {
     "name": "stdout",
     "output_type": "stream",
     "text": [
      "enter a value: 5\n",
      "enter b value: 2\n",
      "Addition of  5 and  2 is:  7\n"
     ]
    }
   ],
   "source": [
    "# With returntype and without arguments\n",
    "# reading: function\n",
    "# printing: main\n",
    "# logic: function\n",
    "def add():\n",
    "    a=int(input(\"enter a value: \"))\n",
    "    b=int(input(\"enter b value: \"))\n",
    "    print(\"Addition of \",a,\"and \",b,end=\" \")\n",
    "    return a+b \n",
    "\n",
    "print(\"is: \",add())"
   ]
  },
  {
   "cell_type": "code",
   "execution_count": 3,
   "id": "63a92367",
   "metadata": {},
   "outputs": [
    {
     "name": "stdout",
     "output_type": "stream",
     "text": [
      "enter a value: 2\n",
      "enter b value: 6\n",
      "Addition of  2 and  6 is:  8\n"
     ]
    }
   ],
   "source": [
    "# Without retuntype and with arguments\n",
    "# reading: main\n",
    "# printing: function\n",
    "# logic: function\n",
    "def add(c,d):\n",
    "    print(\"Addition of \",c,\"and \",d,\"is: \",c+d)\n",
    "    return\n",
    "\n",
    "a=int(input(\"enter a value: \"))\n",
    "b=int(input(\"enter b value: \"))\n",
    "add(a,b)"
   ]
  },
  {
   "cell_type": "code",
   "execution_count": 4,
   "id": "363c0ced",
   "metadata": {},
   "outputs": [
    {
     "name": "stdout",
     "output_type": "stream",
     "text": [
      "enter a value: 2\n",
      "enter b value: 1\n",
      "Addition of  2 and  1 is:  3\n"
     ]
    }
   ],
   "source": [
    "# without returntype and without arguments\n",
    "# reading: function\n",
    "# printing: function\n",
    "# logic: function\n",
    "def add():\n",
    "    c=int(input(\"enter a value: \"))\n",
    "    d=int(input(\"enter b value: \"))\n",
    "    print(\"Addition of \",c,\"and \",d,\"is: \",c+d)\n",
    "    return\n",
    "\n",
    "add()"
   ]
  },
  {
   "cell_type": "code",
   "execution_count": 5,
   "id": "8eeb2bba",
   "metadata": {},
   "outputs": [],
   "source": [
    "# Function argument types:\n",
    "#     Default  \n",
    "#     Keyword\n",
    "#     Required or positional\n",
    "#     Variable Length"
   ]
  },
  {
   "cell_type": "code",
   "execution_count": 10,
   "id": "dcd4cc57",
   "metadata": {},
   "outputs": [
    {
     "ename": "SyntaxError",
     "evalue": "non-default argument follows default argument (<ipython-input-10-5706385847a5>, line 2)",
     "output_type": "error",
     "traceback": [
      "\u001b[1;36m  File \u001b[1;32m\"<ipython-input-10-5706385847a5>\"\u001b[1;36m, line \u001b[1;32m2\u001b[0m\n\u001b[1;33m    def stdnt(name,age=25,year):\u001b[0m\n\u001b[1;37m             ^\u001b[0m\n\u001b[1;31mSyntaxError\u001b[0m\u001b[1;31m:\u001b[0m non-default argument follows default argument\n"
     ]
    }
   ],
   "source": [
    "# Default\n",
    "def stdnt(name,age=25,year):\n",
    "    print(\"Entered Name is: {}\\nAge is: {}\".format(name,age))\n",
    "    return \n",
    "\n",
    "n = input(\"Enter your name: \")\n",
    "a = int(input(\"Enter your age: \"))\n",
    "stdnt(n,a)"
   ]
  },
  {
   "cell_type": "code",
   "execution_count": 14,
   "id": "42685716",
   "metadata": {},
   "outputs": [
    {
     "ename": "SyntaxError",
     "evalue": "positional argument follows keyword argument (<ipython-input-14-93b5209b7474>, line 10)",
     "output_type": "error",
     "traceback": [
      "\u001b[1;36m  File \u001b[1;32m\"<ipython-input-14-93b5209b7474>\"\u001b[1;36m, line \u001b[1;32m10\u001b[0m\n\u001b[1;33m    employee(ename=name,eage=age,esal=sal,ead)\u001b[0m\n\u001b[1;37m                                         ^\u001b[0m\n\u001b[1;31mSyntaxError\u001b[0m\u001b[1;31m:\u001b[0m positional argument follows keyword argument\n"
     ]
    }
   ],
   "source": [
    "# Keyword argument\n",
    "def employee(ename,esal,eage,eadd):\n",
    "    print(\"Entered name is: {}\\nAge is: {}\\nSalary is: {}\"\n",
    "          .format(ename,eage,esal))\n",
    "    return\n",
    "\n",
    "name=input(\"Enter name: \")\n",
    "age = int(input(\"Enter age: \"))\n",
    "sal = input(\"Enter salary: \")\n",
    "employee(ename=name,eage=age,esal=sal,ead)"
   ]
  },
  {
   "cell_type": "code",
   "execution_count": 15,
   "id": "9a7edaf6",
   "metadata": {},
   "outputs": [
    {
     "name": "stdout",
     "output_type": "stream",
     "text": [
      "enter a name: lalitha\n",
      "enter an age: 45\n"
     ]
    },
    {
     "ename": "TypeError",
     "evalue": "gaddr() missing 1 required positional argument: 'p'",
     "output_type": "error",
     "traceback": [
      "\u001b[1;31m---------------------------------------------------------------------\u001b[0m",
      "\u001b[1;31mTypeError\u001b[0m                           Traceback (most recent call last)",
      "\u001b[1;32m<ipython-input-15-68bb84a78091>\u001b[0m in \u001b[0;36m<module>\u001b[1;34m\u001b[0m\n\u001b[0;32m      6\u001b[0m \u001b[0mn\u001b[0m \u001b[1;33m=\u001b[0m \u001b[0minput\u001b[0m\u001b[1;33m(\u001b[0m\u001b[1;34m\"enter a name: \"\u001b[0m\u001b[1;33m)\u001b[0m\u001b[1;33m\u001b[0m\u001b[1;33m\u001b[0m\u001b[0m\n\u001b[0;32m      7\u001b[0m \u001b[0mm\u001b[0m \u001b[1;33m=\u001b[0m \u001b[0mint\u001b[0m\u001b[1;33m(\u001b[0m\u001b[0minput\u001b[0m\u001b[1;33m(\u001b[0m\u001b[1;34m\"enter an age: \"\u001b[0m\u001b[1;33m)\u001b[0m\u001b[1;33m)\u001b[0m\u001b[1;33m\u001b[0m\u001b[1;33m\u001b[0m\u001b[0m\n\u001b[1;32m----> 8\u001b[1;33m \u001b[0mgaddr\u001b[0m\u001b[1;33m(\u001b[0m\u001b[0mn\u001b[0m\u001b[1;33m,\u001b[0m\u001b[0mm\u001b[0m\u001b[1;33m)\u001b[0m\u001b[1;33m\u001b[0m\u001b[1;33m\u001b[0m\u001b[0m\n\u001b[0m",
      "\u001b[1;31mTypeError\u001b[0m: gaddr() missing 1 required positional argument: 'p'"
     ]
    }
   ],
   "source": [
    "# Required or Positional \n",
    "def gaddr(t,y,p):\n",
    "    print(\"Entered name is: {} and Entered age is: {}\".format(t,y))\n",
    "    return\n",
    "\n",
    "n = input(\"enter a name: \")\n",
    "m = int(input(\"enter an age: \"))\n",
    "gaddr(n,m)"
   ]
  },
  {
   "cell_type": "code",
   "execution_count": 16,
   "id": "7387da7c",
   "metadata": {},
   "outputs": [
    {
     "name": "stdout",
     "output_type": "stream",
     "text": [
      "enter a name: Manoj\n",
      "enter an age: 45\n"
     ]
    },
    {
     "ename": "TypeError",
     "evalue": "gaddr() takes 1 positional argument but 2 were given",
     "output_type": "error",
     "traceback": [
      "\u001b[1;31m---------------------------------------------------------------------\u001b[0m",
      "\u001b[1;31mTypeError\u001b[0m                           Traceback (most recent call last)",
      "\u001b[1;32m<ipython-input-16-81c35905fb53>\u001b[0m in \u001b[0;36m<module>\u001b[1;34m\u001b[0m\n\u001b[0;32m      6\u001b[0m \u001b[0mn\u001b[0m \u001b[1;33m=\u001b[0m \u001b[0minput\u001b[0m\u001b[1;33m(\u001b[0m\u001b[1;34m\"enter a name: \"\u001b[0m\u001b[1;33m)\u001b[0m\u001b[1;33m\u001b[0m\u001b[1;33m\u001b[0m\u001b[0m\n\u001b[0;32m      7\u001b[0m \u001b[0mm\u001b[0m \u001b[1;33m=\u001b[0m \u001b[0mint\u001b[0m\u001b[1;33m(\u001b[0m\u001b[0minput\u001b[0m\u001b[1;33m(\u001b[0m\u001b[1;34m\"enter an age: \"\u001b[0m\u001b[1;33m)\u001b[0m\u001b[1;33m)\u001b[0m\u001b[1;33m\u001b[0m\u001b[1;33m\u001b[0m\u001b[0m\n\u001b[1;32m----> 8\u001b[1;33m \u001b[0mgaddr\u001b[0m\u001b[1;33m(\u001b[0m\u001b[0mn\u001b[0m\u001b[1;33m,\u001b[0m\u001b[0mm\u001b[0m\u001b[1;33m)\u001b[0m\u001b[1;33m\u001b[0m\u001b[1;33m\u001b[0m\u001b[0m\n\u001b[0m",
      "\u001b[1;31mTypeError\u001b[0m: gaddr() takes 1 positional argument but 2 were given"
     ]
    }
   ],
   "source": [
    "# Required or Positional \n",
    "def gaddr(t):\n",
    "    print(\"Entered name is: {}\".format(t))\n",
    "    return\n",
    "\n",
    "n = input(\"enter a name: \")\n",
    "m = int(input(\"enter an age: \"))\n",
    "gaddr(n,m)"
   ]
  },
  {
   "cell_type": "code",
   "execution_count": 19,
   "id": "9eb0ec5a",
   "metadata": {},
   "outputs": [
    {
     "ename": "SyntaxError",
     "evalue": "positional argument follows keyword argument (<ipython-input-19-d0a1e4032ef8>, line 8)",
     "output_type": "error",
     "traceback": [
      "\u001b[1;36m  File \u001b[1;32m\"<ipython-input-19-d0a1e4032ef8>\"\u001b[1;36m, line \u001b[1;32m8\u001b[0m\n\u001b[1;33m    std(\"Suresh\",esal=12000,45,23.00,True,'Lalitha',78,sname='Mani',sage=45,saddr='TPT')\u001b[0m\n\u001b[1;37m                           ^\u001b[0m\n\u001b[1;31mSyntaxError\u001b[0m\u001b[1;31m:\u001b[0m positional argument follows keyword argument\n"
     ]
    }
   ],
   "source": [
    "# Variable Length argument\n",
    "def std(f,*k,**j):\n",
    "    print(f,type(f))\n",
    "    print(k,type(k))\n",
    "    print(j,type(j))\n",
    "    return\n",
    "\n",
    "std(\"Suresh\",esal=12000,45,23.00,True,'Lalitha',78,sname='Mani',sage=45,saddr='TPT')"
   ]
  },
  {
   "cell_type": "code",
   "execution_count": null,
   "id": "9d9f943a",
   "metadata": {},
   "outputs": [],
   "source": []
  }
 ],
 "metadata": {
  "kernelspec": {
   "display_name": "Python 3",
   "language": "python",
   "name": "python3"
  },
  "language_info": {
   "codemirror_mode": {
    "name": "ipython",
    "version": 3
   },
   "file_extension": ".py",
   "mimetype": "text/x-python",
   "name": "python",
   "nbconvert_exporter": "python",
   "pygments_lexer": "ipython3",
   "version": "3.7.5"
  }
 },
 "nbformat": 4,
 "nbformat_minor": 5
}
